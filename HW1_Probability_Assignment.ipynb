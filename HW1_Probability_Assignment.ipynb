{
  "nbformat": 4,
  "nbformat_minor": 0,
  "metadata": {
    "colab": {
      "provenance": [],
      "authorship_tag": "ABX9TyNG5x+0C3Gepxs2aBPi1Odu",
      "include_colab_link": true
    },
    "kernelspec": {
      "name": "python3",
      "display_name": "Python 3"
    },
    "language_info": {
      "name": "python"
    }
  },
  "cells": [
    {
      "cell_type": "markdown",
      "metadata": {
        "id": "view-in-github",
        "colab_type": "text"
      },
      "source": [
        "<a href=\"https://colab.research.google.com/github/sina-izi/handson-ml2/blob/master/HW1_Probability_Assignment.ipynb\" target=\"_parent\"><img src=\"https://colab.research.google.com/assets/colab-badge.svg\" alt=\"Open In Colab\"/></a>"
      ]
    },
    {
      "cell_type": "markdown",
      "source": [
        "This is HW1 for CS-UY 4613 (Probability Assignment)"
      ],
      "metadata": {
        "id": "muXESiZ8kGFz"
      }
    },
    {
      "cell_type": "code",
      "source": [],
      "metadata": {
        "id": "C1CM-fBxkKrk"
      },
      "execution_count": null,
      "outputs": []
    },
    {
      "cell_type": "markdown",
      "source": [
        "https://github.com/sina-izi/cs-uy-4613-assignments.git"
      ],
      "metadata": {
        "id": "kuSRs5FklHWY"
      }
    }
  ]
}